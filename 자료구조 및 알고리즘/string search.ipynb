{
 "cells": [
  {
   "cell_type": "code",
   "execution_count": 3,
   "metadata": {},
   "outputs": [],
   "source": [
    "## Brute-Force method\n",
    "\n",
    "def bf_match(txt,pat):\n",
    "    pt = 0\n",
    "    pp = 0\n",
    "    \n",
    "    while pt!=len(txt) and pp!=len(pat):\n",
    "        if txt[pt]==pat[pp]:\n",
    "            pt +=1\n",
    "            pp +=1\n",
    "        else:\n",
    "            pt = pt-pp+1\n",
    "            pp =0\n",
    "    \n",
    "    return pt - pp if pp== len(pat) else -1"
   ]
  },
  {
   "cell_type": "code",
   "execution_count": 4,
   "metadata": {},
   "outputs": [
    {
     "data": {
      "text/plain": [
       "2"
      ]
     },
     "execution_count": 4,
     "metadata": {},
     "output_type": "execute_result"
    }
   ],
   "source": [
    "bf_match('ABABCDEFGHA','ABC')"
   ]
  },
  {
   "cell_type": "code",
   "execution_count": 5,
   "metadata": {},
   "outputs": [],
   "source": [
    "### KMP 법\n",
    "\n",
    "def kmp_match(txt,pat):\n",
    "    \n",
    "    pt = 1\n",
    "    pp = 0\n",
    "    skip = [0]*(len(pat)+1) ## skip table\n",
    "    \n",
    "    # skip table 작성\n",
    "    skip[pt] = 0\n",
    "    while pt!=len(pat):\n",
    "        if pat[pt] == pat[pp]:\n",
    "            pt+=1\n",
    "            pp+=1\n",
    "            skip[pt]=pp\n",
    "        elif pp ==0:\n",
    "            pt+=1\n",
    "            skip[pt]=pp\n",
    "        else:\n",
    "            pp = skip[pp]\n",
    "    \n",
    "    # 문자열 검색\n",
    "    pt = pp =0\n",
    "    while pt!=len(txt) and pp!= len(pat):\n",
    "        if txt[pt] ==pat[pp]:\n",
    "            pt +=1\n",
    "            pp +=1\n",
    "        elif pp==0:\n",
    "            pt +=1\n",
    "        else:\n",
    "            pp = skip[pp]\n",
    "    \n",
    "    return pt - pp if pp==len(pat) else -1"
   ]
  },
  {
   "cell_type": "code",
   "execution_count": 6,
   "metadata": {},
   "outputs": [],
   "source": [
    "### Boyer-Moor method\n",
    "\n",
    "def bm_match(txt,pat):\n",
    "    \n",
    "    skip =[None]*256\n",
    "    \n",
    "    #skip table\n",
    "    for pt in range(256):\n",
    "        skip[pt] = len(pat)\n",
    "    for pt in range(len(pat)):\n",
    "        skip[ord(pat[pt])] = len(pat) - pt -1\n",
    "    \n",
    "    #search\n",
    "    while pt < len(txt):\n",
    "        pp = len(pat)-1\n",
    "        while txt[pt] == pat[pp]:\n",
    "            if pp ==0:\n",
    "                return pt\n",
    "            pt -=1\n",
    "            pp -=1\n",
    "        pt +=skip[ord(txt[pt])] if skip[ord(txt[pt])] > len(pat) - pp else len(pat) - pp\n",
    "    \n",
    "    return -1\n"
   ]
  },
  {
   "cell_type": "code",
   "execution_count": null,
   "metadata": {},
   "outputs": [],
   "source": []
  }
 ],
 "metadata": {
  "kernelspec": {
   "display_name": "Python 3",
   "language": "python",
   "name": "python3"
  },
  "language_info": {
   "codemirror_mode": {
    "name": "ipython",
    "version": 3
   },
   "file_extension": ".py",
   "mimetype": "text/x-python",
   "name": "python",
   "nbconvert_exporter": "python",
   "pygments_lexer": "ipython3",
   "version": "3.8.5"
  }
 },
 "nbformat": 4,
 "nbformat_minor": 4
}
