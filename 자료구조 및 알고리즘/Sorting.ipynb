{
 "cells": [
  {
   "cell_type": "code",
   "execution_count": 1,
   "metadata": {},
   "outputs": [],
   "source": [
    "def bubble_sort(a):\n",
    "    n = len(a)\n",
    "    for i in range(n-1):\n",
    "        for j in range(n-1,i,-1):\n",
    "            if a[j-1] > a[j]:\n",
    "                a[j-1], a[j] = a[j], a[j-1]\n",
    "    \n",
    "    print(a)\n"
   ]
  },
  {
   "cell_type": "code",
   "execution_count": 2,
   "metadata": {},
   "outputs": [],
   "source": [
    "a=[6,4,3,7,1,9,8]"
   ]
  },
  {
   "cell_type": "code",
   "execution_count": 3,
   "metadata": {},
   "outputs": [
    {
     "name": "stdout",
     "output_type": "stream",
     "text": [
      "[1, 3, 4, 6, 7, 8, 9]\n"
     ]
    }
   ],
   "source": [
    "bubble_sort(a)"
   ]
  },
  {
   "cell_type": "code",
   "execution_count": 4,
   "metadata": {},
   "outputs": [],
   "source": [
    "def bubble_sort_1(a):\n",
    "    n = len(a)\n",
    "    for i in range(n-1):\n",
    "        ex = 0\n",
    "        for j in range(n-1,i,-1):\n",
    "            if a[j-1] > a[j]:\n",
    "                a[j-1], a[j] = a[j], a[j-1]\n",
    "                ex +=1\n",
    "        if ex==0:\n",
    "            break\n",
    "    "
   ]
  },
  {
   "cell_type": "code",
   "execution_count": 5,
   "metadata": {},
   "outputs": [],
   "source": [
    "bubble_sort_1(a)"
   ]
  },
  {
   "cell_type": "code",
   "execution_count": 6,
   "metadata": {},
   "outputs": [
    {
     "data": {
      "text/plain": [
       "[1, 3, 4, 6, 7, 8, 9]"
      ]
     },
     "execution_count": 6,
     "metadata": {},
     "output_type": "execute_result"
    }
   ],
   "source": [
    "a"
   ]
  },
  {
   "cell_type": "code",
   "execution_count": 7,
   "metadata": {},
   "outputs": [],
   "source": [
    "def bubble_sort_2(a):\n",
    "    n = len(a)\n",
    "    k=0\n",
    "    while k < n-1:\n",
    "        last = n-1\n",
    "        for j in range(n-1,k,-1):\n",
    "            if a[j-1]>a[j]:\n",
    "                a[j-1], a[j] = a[j], a[j-1]\n",
    "                last = j\n",
    "        k = last\n",
    "    "
   ]
  },
  {
   "cell_type": "code",
   "execution_count": 8,
   "metadata": {},
   "outputs": [],
   "source": [
    "def shaker_sort(a):\n",
    "    \n",
    "    left = 0\n",
    "    right = len(a) - 1\n",
    "    last = right\n",
    "    while left<right:\n",
    "        for j in range(right,left,-1):\n",
    "            if a[j-1] > a[j]:\n",
    "                a[j-1], a[j] = a[j], a[j-1]\n",
    "                last = j\n",
    "        left = last\n",
    "        \n",
    "        for j in range(left,right):\n",
    "            if a[j]>a[j+1]:\n",
    "                a[j], aj[j+1] = a[j+1], a[j]\n",
    "                last = j\n",
    "        right =last\n",
    "        "
   ]
  },
  {
   "cell_type": "code",
   "execution_count": 9,
   "metadata": {},
   "outputs": [],
   "source": [
    "def selection_sort(nums):\n",
    "    n = len(nums)\n",
    "    \n",
    "    for i in range(n-1):\n",
    "        min = i\n",
    "        for j in range(i+1,n):\n",
    "            if nums[j] < nums[min]:\n",
    "                min = j\n",
    "        nums[i], nums[min] = nums[min],nums[i]\n",
    "    print(nums)"
   ]
  },
  {
   "cell_type": "code",
   "execution_count": 10,
   "metadata": {},
   "outputs": [
    {
     "name": "stdout",
     "output_type": "stream",
     "text": [
      "[1, 4, 5, 5, 5, 11, 52, 111, 444]\n"
     ]
    }
   ],
   "source": [
    "selection_sort([1,4,5,111,5,5,444,52,11])"
   ]
  },
  {
   "cell_type": "code",
   "execution_count": 11,
   "metadata": {},
   "outputs": [],
   "source": [
    "def insertion_sort(nums):\n",
    "    \n",
    "    n = len(nums)\n",
    "    for i in range(1,n):\n",
    "        j = i\n",
    "        tmp = nums[i]\n",
    "        while j > 0 and nums[j-1] > tmp:\n",
    "            nums[j] = nums[j-1]\n",
    "            j -= 1\n",
    "        nums[j] = tmp\n",
    "    print(nums)"
   ]
  },
  {
   "cell_type": "code",
   "execution_count": 12,
   "metadata": {},
   "outputs": [
    {
     "name": "stdout",
     "output_type": "stream",
     "text": [
      "[1, 4, 5, 5, 5, 11, 52, 111, 444]\n"
     ]
    }
   ],
   "source": [
    "insertion_sort([1,4,5,111,5,5,444,52,11])"
   ]
  },
  {
   "cell_type": "code",
   "execution_count": 13,
   "metadata": {},
   "outputs": [],
   "source": [
    "def binary_insertion_sort(a):\n",
    "    n=len(a)\n",
    "    for i in range(1,n):\n",
    "        key = a[i]\n",
    "        pl = 0\n",
    "        pr = i-1\n",
    "        \n",
    "        while True:\n",
    "            pc = (pl+pr)//2\n",
    "            if a[pc]==key:\n",
    "                break\n",
    "            elif a[pc]<key:\n",
    "                pl = pc +1\n",
    "            else:\n",
    "                pr = pc-1\n",
    "            if pl>pr:\n",
    "                break\n",
    "        \n",
    "        pd = pc + 1 if pl <= pr else pr +1\n",
    "        \n",
    "        for j in range(i,pd,-1):\n",
    "            a[j] = a[j-1]\n",
    "        a[pd] = key\n",
    "    print(a)"
   ]
  },
  {
   "cell_type": "code",
   "execution_count": 14,
   "metadata": {},
   "outputs": [
    {
     "name": "stdout",
     "output_type": "stream",
     "text": [
      "[1, 4, 5, 5, 5, 11, 52, 111, 444]\n"
     ]
    }
   ],
   "source": [
    "binary_insertion_sort([1,4,5,111,5,5,444,52,11])"
   ]
  },
  {
   "cell_type": "code",
   "execution_count": 15,
   "metadata": {},
   "outputs": [],
   "source": [
    "def shell_sort(a):\n",
    "    \n",
    "    n = len(a)\n",
    "    h = n//2\n",
    "    while h>0:\n",
    "        for i in range(h,n):\n",
    "            j = i - h\n",
    "            tmp = a[i]\n",
    "            while j>=0 and a[j]>tmp:\n",
    "                a[j+h] = a[j]\n",
    "                j -=h\n",
    "            a[j+h] = tmp\n",
    "        \n",
    "        h //=2\n",
    "    print(a)"
   ]
  },
  {
   "cell_type": "code",
   "execution_count": 16,
   "metadata": {},
   "outputs": [
    {
     "name": "stdout",
     "output_type": "stream",
     "text": [
      "[1, 4, 5, 5, 5, 11, 52, 111, 444]\n"
     ]
    }
   ],
   "source": [
    "shell_sort([1,4,5,111,5,5,444,52,11])"
   ]
  },
  {
   "cell_type": "code",
   "execution_count": 17,
   "metadata": {},
   "outputs": [],
   "source": [
    "def shell_sort_1(a):\n",
    "    \n",
    "    n = len(a)\n",
    "    h = 1\n",
    "    \n",
    "    while h<n//9:\n",
    "        h = h*3 + 1\n",
    "    \n",
    "    while h>0:\n",
    "        for i in range(h,n):\n",
    "            j = i - h\n",
    "            tmp = a[i]\n",
    "            while j>=0 and a[j]>tmp:\n",
    "                a[j+h] = a[j]\n",
    "                j -=h\n",
    "            a[j+h] = tmp\n",
    "        \n",
    "        h //=3\n",
    "    print(a)"
   ]
  },
  {
   "cell_type": "code",
   "execution_count": 18,
   "metadata": {},
   "outputs": [
    {
     "name": "stdout",
     "output_type": "stream",
     "text": [
      "[1, 4, 5, 5, 5, 11, 52, 111, 444]\n"
     ]
    }
   ],
   "source": [
    "shell_sort_1([1,4,5,111,5,5,444,52,11])"
   ]
  },
  {
   "cell_type": "code",
   "execution_count": null,
   "metadata": {},
   "outputs": [],
   "source": [
    "### Quick sort\n"
   ]
  }
 ],
 "metadata": {
  "kernelspec": {
   "display_name": "Python 3",
   "language": "python",
   "name": "python3"
  },
  "language_info": {
   "codemirror_mode": {
    "name": "ipython",
    "version": 3
   },
   "file_extension": ".py",
   "mimetype": "text/x-python",
   "name": "python",
   "nbconvert_exporter": "python",
   "pygments_lexer": "ipython3",
   "version": "3.8.5"
  }
 },
 "nbformat": 4,
 "nbformat_minor": 4
}
