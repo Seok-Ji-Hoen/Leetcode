{
 "cells": [
  {
   "cell_type": "code",
   "execution_count": 1,
   "metadata": {},
   "outputs": [],
   "source": [
    "from typing import Any, Sequence"
   ]
  },
  {
   "cell_type": "code",
   "execution_count": 3,
   "metadata": {},
   "outputs": [],
   "source": [
    "def bin_search(a: Sequence, key:Any):\n",
    "    \n",
    "    pl = 0\n",
    "    pr = len(a)-1\n",
    "    \n",
    "    while True:\n",
    "        pc = (pl + pr)//2\n",
    "        if a[pc]==key:\n",
    "            return pc\n",
    "        elif a[pc]<key:\n",
    "            pl=pc+1\n",
    "        else:\n",
    "            pr = pc-1\n",
    "        if pl>pr:\n",
    "            break\n",
    "            \n",
    "    return -1\n"
   ]
  },
  {
   "cell_type": "code",
   "execution_count": 4,
   "metadata": {},
   "outputs": [],
   "source": [
    "x=list(range(1,10))"
   ]
  },
  {
   "cell_type": "code",
   "execution_count": 5,
   "metadata": {},
   "outputs": [
    {
     "data": {
      "text/plain": [
       "4"
      ]
     },
     "execution_count": 5,
     "metadata": {},
     "output_type": "execute_result"
    }
   ],
   "source": [
    "bin_search(x,5)"
   ]
  },
  {
   "cell_type": "code",
   "execution_count": 6,
   "metadata": {},
   "outputs": [
    {
     "data": {
      "text/plain": [
       "-1"
      ]
     },
     "execution_count": 6,
     "metadata": {},
     "output_type": "execute_result"
    }
   ],
   "source": [
    "bin_search(x,11)"
   ]
  },
  {
   "cell_type": "code",
   "execution_count": 8,
   "metadata": {},
   "outputs": [],
   "source": [
    "### chain으로 hash 구현\n",
    "\n",
    "from __future__ import annotations\n",
    "import hashlib\n",
    "\n",
    "class Node:\n",
    "    \n",
    "    def __init__(self,key,value,next:Node):\n",
    "        \n",
    "        self.key = key\n",
    "        self.value = value\n",
    "        self.next = next"
   ]
  },
  {
   "cell_type": "code",
   "execution_count": 10,
   "metadata": {},
   "outputs": [],
   "source": [
    "class ChainedHash:\n",
    "    \n",
    "    def __init__(self, capacity):\n",
    "        \n",
    "        self.capacity = capacity #해시 테이블의 크기 지정\n",
    "        self.table = [None]*self.capacity #해시 테이블 선언\n",
    "    \n",
    "    def hash_value(self, key):\n",
    "        #해시값 산출\n",
    "        if isinstance(key,int):\n",
    "            return key%self.capacity\n",
    "        \n",
    "        return (int(hashlib.sha256(str(key).encode()).hexdigest(),16)%self.capacity)\n",
    "    \n",
    "    def search(self,key):\n",
    "        \n",
    "        hash = self.hash_value(key) # 검색하는 key의 hash value\n",
    "        p = self.table[hash] #노드를 주목\n",
    "        \n",
    "        while p is not None:\n",
    "            if p.key == key:\n",
    "                return p.value\n",
    "            p = p.next\n",
    "        return None\n",
    "    \n",
    "    def add(self,key,value):\n",
    "        \n",
    "        hash = self.hash_value(key)\n",
    "        p = self.table[hash]\n",
    "        \n",
    "        while p is not None:\n",
    "            if p.key ==key: \n",
    "                return False ###추가 실패, 이미 hash에 해당 값 존재\n",
    "            \n",
    "            p = p.next\n",
    "        \n",
    "        temp = Node(key,value,self.table[hash]) ###맨 앞에 추가, next를 self.table[hash]인 것으로 만듬\n",
    "        self.table[hash] = temp\n",
    "        return True\n",
    "    \n",
    "    \n",
    "    def remove(self,key):\n",
    "        \n",
    "        hash = self.hash_value(key)  ###삭제할 key의 hash value\n",
    "        p = self.table[hash]   ###node 주목\n",
    "        pp = None   ### 바로 앞의 node를 주목\n",
    "        \n",
    "        while p is not None:\n",
    "            if p.key == key:\n",
    "                if pp is None:\n",
    "                    self.table[hash] = p.next\n",
    "                else:\n",
    "                    pp.next = p.next #### p를 제거하고, 앞 node와 뒷 node를 연결해줌\n",
    "                return True\n",
    "            pp=p\n",
    "            p = p.next\n",
    "        \n",
    "        return False\n",
    "    \n",
    "    def dump(self) :\n",
    "        \n",
    "        for i in range(self.capacity):\n",
    "            p = self.table[i]\n",
    "            print(i, end='')\n",
    "            while p is not None:\n",
    "                print(f'-> {p.key} ({p.value})',end='')\n",
    "                p = p.next\n",
    "            print()\n"
   ]
  },
  {
   "cell_type": "code",
   "execution_count": 13,
   "metadata": {},
   "outputs": [],
   "source": [
    "### open addressing으로 hash 함수 구현\n",
    "\n",
    "from __future__ import annotations\n",
    "from enum import Enum\n",
    "import hashlib\n",
    "\n",
    "class Status(Enum):\n",
    "    occupied = 0 ##데이터를 저장\n",
    "    empty = 1 ## 비어있음\n",
    "    deleted = 2 ##삭제완료\n",
    "    \n",
    "class Buckey:\n",
    "    \n",
    "    def __init__(self,key, value,stat):\n",
    "        self.key = key\n",
    "        self.value = value\n",
    "        self.stat = stat\n",
    "        \n",
    "    def set(self,key,value,stat):\n",
    "        self.key = key\n",
    "        self.value = value\n",
    "        self.stat = stat\n",
    "    \n",
    "    def set_status(self,stat):\n",
    "        self.stat = stat\n",
    "\n",
    "        \n",
    "class OpenHash:\n",
    "    \n",
    "    def __init__(self,capacity):\n",
    "        self.capacity = capacity\n",
    "        self.table = [Bucket()]*self.capacity ## hash table 생성\n",
    "    \n",
    "    def hash_value(self,key):\n",
    "        if isinstance(key,int):\n",
    "            return key%self.capacity\n",
    "        return (int(hashlib.sha256(str(key).encode()).hexdigest(),16)%self.capacity)\n",
    "    \n",
    "    def rehash_value(self,key):\n",
    "        return (self.hash_value(key)+1)%self.capacity\n",
    "    \n",
    "    def search_node(self,key):\n",
    "        hash = self.hahs_value(key)\n",
    "        p = self.table[hash]\n",
    "        \n",
    "        for i in range(self.capacity):\n",
    "            if p.stat == Status.empty:\n",
    "                break\n",
    "            elif p.stat == Status.occupied and p.key == key:\n",
    "                return p\n",
    "            hash = self.rehash_value(hash)\n",
    "            p = self.table[hash]\n",
    "        \n",
    "        return None\n",
    "    \n",
    "    def search(self,key):\n",
    "        p = self.search_node(key)\n",
    "        if p is not None:\n",
    "            return p.value\n",
    "        else:\n",
    "            return None\n",
    "        \n",
    "    \n",
    "    def add(self,key,value):\n",
    "        if self.search(key) is not None:\n",
    "            return False ##이미 등록된 key\n",
    "        \n",
    "        hash = self.hash_value(key)\n",
    "        p = self.table[hash]\n",
    "        for i in range(self.capacity):\n",
    "            if p.stat == Status.empty or p.stat == Status.deleted:\n",
    "                self.table[hash] = Bucket(key,value, Status.occupied)\n",
    "                return True\n",
    "            hash = self.rehash_value(hash)\n",
    "            p = self.table[hash]\n",
    "        \n",
    "        return False\n",
    "        \n",
    "    \n",
    "    def remove(self,key):\n",
    "        p=self.search_node(key)\n",
    "        if p is None:\n",
    "            return False\n",
    "        p.set_status(Status.deleted)\n",
    "        return True\n",
    "    \n",
    "    def dump(self):\n",
    "        for i in range(self.capacity):\n",
    "            print(f'{i:2}',end='')\n",
    "            if self.table[i].stat == Status.occupied:\n",
    "                print(f'{self.table[i].key}({self.table[i].value})')\n",
    "            elif self.table[i].stat == Status.empty:\n",
    "                print('--미등록--')\n",
    "            elif self.table[i].stat == Status.deleted:\n",
    "                print('--삭제완료--')"
   ]
  },
  {
   "cell_type": "code",
   "execution_count": null,
   "metadata": {},
   "outputs": [],
   "source": []
  }
 ],
 "metadata": {
  "kernelspec": {
   "display_name": "Python 3",
   "language": "python",
   "name": "python3"
  },
  "language_info": {
   "codemirror_mode": {
    "name": "ipython",
    "version": 3
   },
   "file_extension": ".py",
   "mimetype": "text/x-python",
   "name": "python",
   "nbconvert_exporter": "python",
   "pygments_lexer": "ipython3",
   "version": "3.8.5"
  }
 },
 "nbformat": 4,
 "nbformat_minor": 4
}
